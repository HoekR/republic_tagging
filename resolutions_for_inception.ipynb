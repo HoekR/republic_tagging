{
 "cells": [
  {
   "cell_type": "code",
   "execution_count": 1,
   "metadata": {},
   "outputs": [],
   "source": [
    "%reload_ext autoreload\n",
    "%autoreload 2\n",
    "\n",
    "\n",
    "#This is needed to add the repo dir to the path so jupyter\n",
    "# can load the republic modules directly from the notebooks\n",
    "import os\n",
    "import sys\n",
    "import re\n",
    "sys.path.append('/Users/rikhoekstra/develop/republic_clean/')\n",
    "\n",
    "from collections import defaultdict\n",
    "import pandas as pd\n",
    "from collections import Counter, defaultdict\n",
    "import json\n",
    "import republic.model.republic_document_model as rdm\n",
    "\n",
    "repo_dir = os.path.split(os.getcwd())[0]\n",
    "\n",
    "if repo_dir not in sys.path:\n",
    "    sys.path.append(repo_dir)\n",
    "    \n",
    "import warnings\n",
    "warnings.filterwarnings('ignore')\n",
    "warnings.simplefilter('ignore')"
   ]
  },
  {
   "cell_type": "code",
   "execution_count": 2,
   "metadata": {},
   "outputs": [],
   "source": [
    "from republic.elastic.republic_elasticsearch import initialize_es\n",
    "\n",
    "rep_es = initialize_es(host_type='external', timeout=60)"
   ]
  },
  {
   "cell_type": "code",
   "execution_count": 10,
   "metadata": {},
   "outputs": [],
   "source": [
    "# N.B change the seed for a different selection!\n",
    "# and add used seeds to the used_seeds variable\n",
    "from random import randint\n",
    "import json\n",
    "def get_seed():\n",
    "    with open('./used_seeds.json','r') as infl:\n",
    "        used_seeds = json.load(infl)\n",
    "    seed = randint(0,1000000)\n",
    "    if seed not in used_seeds:\n",
    "        used_seeds.append(seed)\n",
    "        result = seed\n",
    "        with open('./used_seeds.json','w') as outfl:\n",
    "            json.dump(used_seeds, outfl, ensure_ascii=False)\n",
    "        return result"
   ]
  },
  {
   "cell_type": "code",
   "execution_count": 12,
   "metadata": {},
   "outputs": [
    {
     "name": "stdout",
     "output_type": "stream",
     "text": [
      "29745\n"
     ]
    }
   ],
   "source": [
    "seed = None\n",
    "while seed==None:\n",
    "    seed = get_seed()\n"
   ]
  },
  {
   "cell_type": "code",
   "execution_count": 13,
   "metadata": {},
   "outputs": [],
   "source": [
    "\n",
    "query = {\n",
    "    'function_score': {\n",
    "        'query': {\n",
    "            'bool': {\n",
    "                'must': [\n",
    "                    {'match': {'type': 'resolution'}},\n",
    "                    {'range': {'metadata.session_year': {'gte': 1700, 'lte': 1797}}}\n",
    "                ]\n",
    "            }            \n",
    "        },\n",
    "        'random_score': {\n",
    "            'seed': seed,\n",
    "            'field': '_seq_no'\n",
    "        }\n",
    "    }\n",
    "}"
   ]
  },
  {
   "cell_type": "code",
   "execution_count": 15,
   "metadata": {},
   "outputs": [
    {
     "name": "stdout",
     "output_type": "stream",
     "text": [
      "using query param\n",
      "resolutions\n"
     ]
    }
   ],
   "source": [
    "response = rep_es.retrieve_resolutions_by_query(query=query, size=500)"
   ]
  },
  {
   "cell_type": "code",
   "execution_count": 16,
   "metadata": {},
   "outputs": [
    {
     "data": {
      "text/plain": [
       "500"
      ]
     },
     "execution_count": 16,
     "metadata": {},
     "output_type": "execute_result"
    }
   ],
   "source": [
    "len(response)"
   ]
  },
  {
   "cell_type": "code",
   "execution_count": 17,
   "metadata": {},
   "outputs": [],
   "source": [
    "df = pd.read_csv('/Users/rikhoekstra/develop/tagging/inception_input/tag_resoluties.csv', sep='\\t', index_col=0)\n",
    "fls = list(df.resolutie)"
   ]
  },
  {
   "cell_type": "code",
   "execution_count": 18,
   "metadata": {},
   "outputs": [
    {
     "data": {
      "text/plain": [
       "497"
      ]
     },
     "execution_count": 18,
     "metadata": {},
     "output_type": "execute_result"
    }
   ],
   "source": [
    "len( [r.id for r in response if r.id not in fls])"
   ]
  },
  {
   "cell_type": "code",
   "execution_count": 19,
   "metadata": {},
   "outputs": [],
   "source": [
    "outdir = './inception_input/20230109'"
   ]
  },
  {
   "cell_type": "code",
   "execution_count": 20,
   "metadata": {},
   "outputs": [],
   "source": [
    "for r in response:\n",
    "    fl = r.id\n",
    "    with open(os.path.join(outdir, fl +'.txt'),'w') as outfl:\n",
    "        txt = '\\n'.join( [p.text for p in r.paragraphs])\n",
    "        outfl.write(txt)"
   ]
  },
  {
   "cell_type": "code",
   "execution_count": 21,
   "metadata": {},
   "outputs": [
    {
     "data": {
      "text/html": [
       "<div>\n",
       "<style scoped>\n",
       "    .dataframe tbody tr th:only-of-type {\n",
       "        vertical-align: middle;\n",
       "    }\n",
       "\n",
       "    .dataframe tbody tr th {\n",
       "        vertical-align: top;\n",
       "    }\n",
       "\n",
       "    .dataframe thead th {\n",
       "        text-align: right;\n",
       "    }\n",
       "</style>\n",
       "<table border=\"1\" class=\"dataframe\">\n",
       "  <thead>\n",
       "    <tr style=\"text-align: right;\">\n",
       "      <th></th>\n",
       "      <th>resolutie</th>\n",
       "    </tr>\n",
       "  </thead>\n",
       "  <tbody>\n",
       "    <tr>\n",
       "      <th>0</th>\n",
       "      <td>session-1709-07-11-ordinaris-num-1-resolution-66</td>\n",
       "    </tr>\n",
       "    <tr>\n",
       "      <th>1</th>\n",
       "      <td>session-1785-04-19-ordinaris-num-1-resolution-31</td>\n",
       "    </tr>\n",
       "    <tr>\n",
       "      <th>2</th>\n",
       "      <td>session-1723-02-25-ordinaris-num-1-resolution-6</td>\n",
       "    </tr>\n",
       "    <tr>\n",
       "      <th>3</th>\n",
       "      <td>session-1778-06-22-ordinaris-num-1-resolution-5</td>\n",
       "    </tr>\n",
       "    <tr>\n",
       "      <th>4</th>\n",
       "      <td>session-1717-03-26-ordinaris-num-1-resolution-6</td>\n",
       "    </tr>\n",
       "    <tr>\n",
       "      <th>...</th>\n",
       "      <td>...</td>\n",
       "    </tr>\n",
       "    <tr>\n",
       "      <th>495</th>\n",
       "      <td>session-1722-12-08-ordinaris-num-1-resolution-5</td>\n",
       "    </tr>\n",
       "    <tr>\n",
       "      <th>496</th>\n",
       "      <td>session-1725-07-26-ordinaris-num-1-resolution-1</td>\n",
       "    </tr>\n",
       "    <tr>\n",
       "      <th>497</th>\n",
       "      <td>session-1709-04-22-ordinaris-num-1-resolution-13</td>\n",
       "    </tr>\n",
       "    <tr>\n",
       "      <th>498</th>\n",
       "      <td>session-1705-10-31-ordinaris-num-1-resolution-14</td>\n",
       "    </tr>\n",
       "    <tr>\n",
       "      <th>499</th>\n",
       "      <td>session-1762-01-27-ordinaris-num-1-resolution-5</td>\n",
       "    </tr>\n",
       "  </tbody>\n",
       "</table>\n",
       "<p>1400 rows × 1 columns</p>\n",
       "</div>"
      ],
      "text/plain": [
       "                                            resolutie\n",
       "0    session-1709-07-11-ordinaris-num-1-resolution-66\n",
       "1    session-1785-04-19-ordinaris-num-1-resolution-31\n",
       "2     session-1723-02-25-ordinaris-num-1-resolution-6\n",
       "3     session-1778-06-22-ordinaris-num-1-resolution-5\n",
       "4     session-1717-03-26-ordinaris-num-1-resolution-6\n",
       "..                                                ...\n",
       "495   session-1722-12-08-ordinaris-num-1-resolution-5\n",
       "496   session-1725-07-26-ordinaris-num-1-resolution-1\n",
       "497  session-1709-04-22-ordinaris-num-1-resolution-13\n",
       "498  session-1705-10-31-ordinaris-num-1-resolution-14\n",
       "499   session-1762-01-27-ordinaris-num-1-resolution-5\n",
       "\n",
       "[1400 rows x 1 columns]"
      ]
     },
     "execution_count": 21,
     "metadata": {},
     "output_type": "execute_result"
    }
   ],
   "source": [
    "\n",
    "ndf = pd.DataFrame([r.id for r in response], columns=['resolutie'])\n",
    "df.append(ndf)"
   ]
  },
  {
   "cell_type": "code",
   "execution_count": 22,
   "metadata": {},
   "outputs": [],
   "source": [
    "df.to_csv('/Users/rikhoekstra/develop/tagging/inception_input/tag_resoluties.csv', sep='\\t')"
   ]
  },
  {
   "cell_type": "code",
   "execution_count": null,
   "metadata": {},
   "outputs": [],
   "source": []
  }
 ],
 "metadata": {
  "kernelspec": {
   "display_name": "myenv",
   "language": "python",
   "name": "myenv"
  },
  "language_info": {
   "codemirror_mode": {
    "name": "ipython",
    "version": 3
   },
   "file_extension": ".py",
   "mimetype": "text/x-python",
   "name": "python",
   "nbconvert_exporter": "python",
   "pygments_lexer": "ipython3",
   "version": "3.8.5"
  },
  "orig_nbformat": 4,
  "vscode": {
   "interpreter": {
    "hash": "6b4604f4827c75864cf64d1da30f8ab29b711749c5beb946b78bb0677b111185"
   }
  }
 },
 "nbformat": 4,
 "nbformat_minor": 2
}
